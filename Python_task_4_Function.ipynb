{
 "cells": [
  {
   "cell_type": "markdown",
   "id": "4fc2a81d-2b6b-4cfa-8780-7de4a46c1dbc",
   "metadata": {},
   "source": [
    "# A: User-defined Function"
   ]
  },
  {
   "cell_type": "code",
   "execution_count": 2,
   "id": "fccc1205-2353-471d-b710-0e78a8bf52ca",
   "metadata": {},
   "outputs": [
    {
     "name": "stdout",
     "output_type": "stream",
     "text": [
      "[1, 4, 9, 16]\n"
     ]
    }
   ],
   "source": [
    "# Function to return the list of squares\n",
    "def square_list(numbers):\n",
    "    return [x ** 2 for x in numbers]\n",
    "print(square_list([1, 2, 3, 4]))"
   ]
  },
  {
   "cell_type": "code",
   "execution_count": 4,
   "id": "ea532e99-633e-46af-94fc-b98cf6fac687",
   "metadata": {},
   "outputs": [
    {
     "name": "stdout",
     "output_type": "stream",
     "text": [
      "4\n",
      "3\n"
     ]
    }
   ],
   "source": [
    "#Function to count the number of vowels in a string\n",
    "def count_vowels(text):\n",
    "    vowels = 'aeiouAEIOU'\n",
    "    count = 0\n",
    "    for char in text:\n",
    "        if char in vowels:\n",
    "            count += 1\n",
    "    return count\n",
    "print(count_vowels(\"Kajal Raut\"))\n",
    "print(count_vowels(\"Hello World\"))"
   ]
  },
  {
   "cell_type": "code",
   "execution_count": 6,
   "id": "dda3b7c1-45df-441a-8bd6-081d729a8e53",
   "metadata": {},
   "outputs": [
    {
     "name": "stdout",
     "output_type": "stream",
     "text": [
      "True\n",
      "False\n"
     ]
    }
   ],
   "source": [
    "#Function to check if a numberdef is_armstrong(num):\n",
    "def is_armstrong(num):\n",
    "    digits = str(num)\n",
    "    power = len(digits)\n",
    "    total = sum(int(d)**power for d in digits)\n",
    "    return total == num\n",
    "\n",
    "print(is_armstrong(153))  \n",
    "print(is_armstrong(123)) "
   ]
  },
  {
   "cell_type": "code",
   "execution_count": 8,
   "id": "f0c3db53-3d8e-4ccd-a8a9-8c2fc6240866",
   "metadata": {},
   "outputs": [
    {
     "name": "stdout",
     "output_type": "stream",
     "text": [
      "['Sam', 'Sakshi', 'Saee']\n"
     ]
    }
   ],
   "source": [
    "#Function to return names that start with 'S'\n",
    "def names_starting_with_s(names):\n",
    "    return [name for name in names if name.startswith('S') or name.startswith('s')]\n",
    "print(names_starting_with_s([\"Sam\", \"Kajal\", \"Sakshi\", \"Neha\", \"Saee\"]))"
   ]
  },
  {
   "cell_type": "code",
   "execution_count": 10,
   "id": "da8ea86e-3cce-4998-9ba3-26c3597a1f7c",
   "metadata": {},
   "outputs": [
    {
     "name": "stdout",
     "output_type": "stream",
     "text": [
      "12\n",
      "64\n"
     ]
    }
   ],
   "source": [
    "#Function to find HCF (Highest Common Factor)\n",
    "def find_hcf(a, b):\n",
    "    while b:\n",
    "        a, b = b, a % b\n",
    "    return a\n",
    "print(find_hcf(36, 60))\n",
    "print(find_hcf(128,64))"
   ]
  },
  {
   "cell_type": "markdown",
   "id": "da006b06-4dc9-4030-9489-dfe610fdf175",
   "metadata": {},
   "source": [
    "# B:Lambda Function"
   ]
  },
  {
   "cell_type": "code",
   "execution_count": 13,
   "id": "f5b1b635-ddfb-40df-9f18-674e8a92dd66",
   "metadata": {},
   "outputs": [
    {
     "name": "stdout",
     "output_type": "stream",
     "text": [
      "True\n",
      "False\n"
     ]
    }
   ],
   "source": [
    "# Check if a number is divisible by 5\n",
    "is_divisible_by_5 = lambda x: x % 5 == 0\n",
    "print(is_divisible_by_5(25))  \n",
    "print(is_divisible_by_5(12)) "
   ]
  },
  {
   "cell_type": "code",
   "execution_count": 15,
   "id": "70cf7305-c58f-4588-8ada-220989194e02",
   "metadata": {},
   "outputs": [
    {
     "name": "stdout",
     "output_type": "stream",
     "text": [
      "197.6\n",
      "217.4\n"
     ]
    }
   ],
   "source": [
    "#Convert Celsius to Fahrenheit\n",
    "c_to_f = lambda c: (c * 9/5) + 32\n",
    "print(c_to_f(92))    \n",
    "print(c_to_f(103))  "
   ]
  },
  {
   "cell_type": "code",
   "execution_count": 17,
   "id": "812cf88e-2be2-4c38-80e9-2f0865d320bc",
   "metadata": {},
   "outputs": [
    {
     "name": "stdout",
     "output_type": "stream",
     "text": [
      "27\n",
      "729\n"
     ]
    }
   ],
   "source": [
    "#Return the cube of a number\n",
    "cube = lambda x: x ** 3\n",
    "print(cube(3)) \n",
    "print(cube(9))"
   ]
  },
  {
   "cell_type": "code",
   "execution_count": 19,
   "id": "d0b34df9-2554-4636-9fba-cd43231ee8eb",
   "metadata": {},
   "outputs": [
    {
     "name": "stdout",
     "output_type": "stream",
     "text": [
      "Hello, World!\n",
      "Kajal,Raut\n"
     ]
    }
   ],
   "source": [
    "#Add (concatenate) two strings\n",
    "add_strings = lambda a, b: a + b\n",
    "print(add_strings(\"Hello, \", \"World!\"))  \n",
    "print(add_strings(\"Kajal,\",\"Raut\"))"
   ]
  },
  {
   "cell_type": "code",
   "execution_count": 21,
   "id": "8bf900b8-8609-4138-a443-1a5a6ba0d8c9",
   "metadata": {},
   "outputs": [
    {
     "name": "stdout",
     "output_type": "stream",
     "text": [
      "False\n",
      "True\n"
     ]
    }
   ],
   "source": [
    "#Check if string length is greater than 8\n",
    "is_long = lambda s: len(s) > 8\n",
    "print(is_long(\"apple\"))   \n",
    "print(is_long(\"aeroplane\"))  "
   ]
  },
  {
   "cell_type": "markdown",
   "id": "3f99d1ec-06bb-4216-90a4-2dac9b9f9899",
   "metadata": {},
   "source": [
    "# C:Filter Function"
   ]
  },
  {
   "cell_type": "code",
   "execution_count": 24,
   "id": "57b58381-f789-4324-8938-9e4d3c68432f",
   "metadata": {},
   "outputs": [
    {
     "name": "stdout",
     "output_type": "stream",
     "text": [
      "['apple', 'banana', 'elephant']\n"
     ]
    }
   ],
   "source": [
    "# Filter strings with length greater than 4\n",
    "words = [\"apple\", \"is\", \"banana\", \"cat\", \"elephant\"]\n",
    "long_words = list(filter(lambda x: len(x) > 4, words))\n",
    "print(long_words)"
   ]
  },
  {
   "cell_type": "code",
   "execution_count": 26,
   "id": "62e33b1e-85ef-4506-92c6-d8aed0786e60",
   "metadata": {},
   "outputs": [
    {
     "name": "stdout",
     "output_type": "stream",
     "text": [
      "[250, 300, 150]\n"
     ]
    }
   ],
   "source": [
    "# Filter numbers greater than 100\n",
    "nums = [10, 250, 90, 300, 45, 150]\n",
    "greater_than_100 = list(filter(lambda x: x > 100, nums))\n",
    "print(greater_than_100)"
   ]
  },
  {
   "cell_type": "code",
   "execution_count": 28,
   "id": "1d965d37-5583-4de5-a319-0ba64f64004b",
   "metadata": {},
   "outputs": [
    {
     "name": "stdout",
     "output_type": "stream",
     "text": [
      "[1, 3, 5, 7, 9]\n"
     ]
    }
   ],
   "source": [
    "#Filter all odd numbers using lambda\n",
    "numbers = [1, 2, 3, 4, 5, 6, 7, 8, 9, 10]\n",
    "odd_numbers = list(filter(lambda x: x % 2 != 0, numbers))\n",
    "print(odd_numbers)"
   ]
  },
  {
   "cell_type": "code",
   "execution_count": 30,
   "id": "17ff9348-9de5-43b6-a08b-1c6053bb0d16",
   "metadata": {},
   "outputs": [
    {
     "name": "stdout",
     "output_type": "stream",
     "text": [
      "['Neha', 'Pooja']\n"
     ]
    }
   ],
   "source": [
    "#Find names that end with the letter ‘a’\n",
    "names = [\"Neha\", \"Sam\", \"Kajal\", \"Komal\", \"Pooja\"]\n",
    "ends_with_a = list(filter(lambda name: name.lower().endswith('a'), names))\n",
    "print(ends_with_a)"
   ]
  },
  {
   "cell_type": "code",
   "execution_count": 32,
   "id": "fbdf401e-c2b0-49c6-947e-4eebe6054cff",
   "metadata": {},
   "outputs": [
    {
     "name": "stdout",
     "output_type": "stream",
     "text": [
      "[1, 5, 7]\n"
     ]
    }
   ],
   "source": [
    "#Filter out non-integer elements from a mixed list\n",
    "mixed = [1, \"hello\", 3.14, 5, True, 7, \"world\", None]\n",
    "only_integers = list(filter(lambda x: type(x) == int and not isinstance(x, bool), mixed))\n",
    "print(only_integers)"
   ]
  },
  {
   "cell_type": "markdown",
   "id": "4e24d7f1-530f-4c67-8cc2-b7e31a8d449b",
   "metadata": {},
   "source": [
    "# D:Format Function"
   ]
  },
  {
   "cell_type": "code",
   "execution_count": 34,
   "id": "79e1840e-090d-4d0d-b992-d688291639a5",
   "metadata": {},
   "outputs": [
    {
     "name": "stdout",
     "output_type": "stream",
     "text": [
      "Student Kajal scored 96 marks in Mathematics.\n"
     ]
    }
   ],
   "source": [
    "#Format and print: \"Student {name} scored {marks} marks in {subject}\".\n",
    "name = \"Kajal\"\n",
    "marks = 96\n",
    "subject = \"Mathematics\"\n",
    "print(\"Student {} scored {} marks in {}.\".format(name, marks, subject))"
   ]
  },
  {
   "cell_type": "markdown",
   "id": "218ae6d1-bbdd-4b5b-a09c-1512e969a608",
   "metadata": {},
   "source": [
    "# E: Map Function"
   ]
  },
  {
   "cell_type": "code",
   "execution_count": 37,
   "id": "a841b27f-d659-49e9-aac0-83bab19c57ab",
   "metadata": {},
   "outputs": [
    {
     "name": "stdout",
     "output_type": "stream",
     "text": [
      "[1, 4, 9, 16, 25]\n"
     ]
    }
   ],
   "source": [
    "#Convert a list of integers into their squares\n",
    "numbers = [1, 2, 3, 4, 5]\n",
    "squares = list(map(lambda x: x**2, numbers))\n",
    "print(squares)"
   ]
  },
  {
   "cell_type": "code",
   "execution_count": 39,
   "id": "f0a39132-d8cd-497d-987f-b698e018f8de",
   "metadata": {},
   "outputs": [
    {
     "name": "stdout",
     "output_type": "stream",
     "text": [
      "['APPLE', 'BANANA', 'CHERRY']\n"
     ]
    }
   ],
   "source": [
    "#Convert a list of strings to uppercase\n",
    "words = [\"apple\", \"banana\", \"cherry\"]\n",
    "uppercased = list(map(str.upper, words))\n",
    "print(uppercased)"
   ]
  },
  {
   "cell_type": "code",
   "execution_count": 41,
   "id": "853f6abb-2453-4fff-ba49-515bce47b9df",
   "metadata": {},
   "outputs": [
    {
     "name": "stdout",
     "output_type": "stream",
     "text": [
      "[8, 18, 28, 38]\n"
     ]
    }
   ],
   "source": [
    "#Subtract 2 from every number in a list\n",
    "nums = [10, 20, 30, 40]\n",
    "reduced = list(map(lambda x: x - 2, nums))\n",
    "print(reduced)"
   ]
  },
  {
   "cell_type": "code",
   "execution_count": 43,
   "id": "f8d77d68-6389-414d-bcf9-57fb5a7c073f",
   "metadata": {},
   "outputs": [
    {
     "name": "stdout",
     "output_type": "stream",
     "text": [
      "[6, 2, 8, 3, 6]\n"
     ]
    }
   ],
   "source": [
    "#Get the length of each word in a sentence\n",
    "sentence = \"Python is powerful and simple\"\n",
    "words = sentence.split()\n",
    "lengths = list(map(len, words))\n",
    "print(lengths)"
   ]
  },
  {
   "cell_type": "code",
   "execution_count": 45,
   "id": "176b1b51-d4fb-46a3-8baa-fb05a58c90e5",
   "metadata": {},
   "outputs": [
    {
     "name": "stdout",
     "output_type": "stream",
     "text": [
      "[0, 5, 12, 21]\n"
     ]
    }
   ],
   "source": [
    "#Multiply each element by its index\n",
    "data = [4, 5, 6, 7]\n",
    "result = list(map(lambda x: x[0] * x[1], enumerate(data)))\n",
    "print(result)"
   ]
  }
 ],
 "metadata": {
  "kernelspec": {
   "display_name": "Python [conda env:base] *",
   "language": "python",
   "name": "conda-base-py"
  },
  "language_info": {
   "codemirror_mode": {
    "name": "ipython",
    "version": 3
   },
   "file_extension": ".py",
   "mimetype": "text/x-python",
   "name": "python",
   "nbconvert_exporter": "python",
   "pygments_lexer": "ipython3",
   "version": "3.12.7"
  }
 },
 "nbformat": 4,
 "nbformat_minor": 5
}
