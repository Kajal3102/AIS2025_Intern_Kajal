{
 "cells": [
  {
   "cell_type": "markdown",
   "id": "2d1ce7e5-4e00-46f9-ab79-e19e60e5d42d",
   "metadata": {},
   "source": [
    "# Introduction to Dictionary\n",
    "A dictionary stores data in key-value pairs. It is unordered and mutable.\n",
    "\n",
    "#Key Points:\n",
    "\n",
    "Defined using {} with key-value pairs.\n",
    "\n",
    "Keys must be unique and immutable.\n",
    "\n",
    "Values can be any type.\n",
    "\n",
    "Defined using curly braces {} or the dict() constructor.\n",
    "\n",
    "Common Methods/Functions\n",
    "\n"
   ]
  },
  {
   "cell_type": "code",
   "execution_count": 2,
   "id": "daa5cbb7-8efc-4ebd-99f8-0da09e7c0702",
   "metadata": {},
   "outputs": [
    {
     "name": "stdout",
     "output_type": "stream",
     "text": [
      "Kajal\n",
      "23\n",
      "Not Found\n"
     ]
    }
   ],
   "source": [
    "# Using curly braces\n",
    "student = {\"name\": \"Kajal\",\"age\":23,\"courses\": [\"Statistics\", \"Maths\"]}\n",
    "# Using the dict() constructor\n",
    "student1 = dict(name=\"Kajal\",department=\"Statistics\")\n",
    "#Accessing Values\n",
    "print(student[\"name\"])     \n",
    "print(student.get(\"age\")) \n",
    "print(student.get(\"grade\", \"Not Found\"))  "
   ]
  },
  {
   "cell_type": "code",
   "execution_count": 4,
   "id": "ad482eb4-ebfb-440c-904e-9976b36e4ff8",
   "metadata": {},
   "outputs": [
    {
     "name": "stdout",
     "output_type": "stream",
     "text": [
      "{'name': 'Kajal', 'age': 22, 'courses': ['Statistics', 'Maths'], 'gender': 'Female'}\n"
     ]
    }
   ],
   "source": [
    "# Modifying a Dictionary\n",
    "student[\"age\"] = 22           \n",
    "student[\"gender\"] = \"Female\" \n",
    "print(student)"
   ]
  },
  {
   "cell_type": "code",
   "execution_count": 6,
   "id": "0b9b7db3-e8c2-4548-a124-766cc663f47d",
   "metadata": {},
   "outputs": [
    {
     "name": "stdout",
     "output_type": "stream",
     "text": [
      "{'name': 'Kajal', 'age': 22, 'courses': ['Statistics', 'Maths']}\n",
      "22\n"
     ]
    }
   ],
   "source": [
    "# Removing items\n",
    "del student[\"gender\"]         \n",
    "print(student)\n",
    "age = student.pop(\"age\")      \n",
    "print(age)     "
   ]
  },
  {
   "cell_type": "code",
   "execution_count": 8,
   "id": "28628fcc-783a-4f98-b75e-6e1f690a689e",
   "metadata": {},
   "outputs": [
    {
     "name": "stdout",
     "output_type": "stream",
     "text": [
      "dict_keys(['name', 'age', 'city'])\n",
      "dict_values(['Kajal', 23, 'Indapur'])\n",
      "dict_items([('name', 'Kajal'), ('age', 23), ('city', 'Indapur')])\n",
      "{'name': 'Kajal', 'age': 22, 'city': 'Pune'}\n",
      "True\n"
     ]
    }
   ],
   "source": [
    "# Dictionary methods with examples\n",
    "student = {\"name\": \"Kajal\", \"age\": 23, \"city\": \"Indapur\"}\n",
    "print(student.keys())      \n",
    "print(student.values())    \n",
    "print(student.items())     \n",
    "# Update multiple values\n",
    "student.update({\"age\": 22, \"city\": \"Pune\"})\n",
    "print(student)\n",
    "# Check if key exists\n",
    "print(\"age\" in student)   "
   ]
  }
 ],
 "metadata": {
  "kernelspec": {
   "display_name": "Python [conda env:base] *",
   "language": "python",
   "name": "conda-base-py"
  },
  "language_info": {
   "codemirror_mode": {
    "name": "ipython",
    "version": 3
   },
   "file_extension": ".py",
   "mimetype": "text/x-python",
   "name": "python",
   "nbconvert_exporter": "python",
   "pygments_lexer": "ipython3",
   "version": "3.12.7"
  }
 },
 "nbformat": 4,
 "nbformat_minor": 5
}
