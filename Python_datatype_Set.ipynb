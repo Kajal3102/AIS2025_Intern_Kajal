{
 "cells": [
  {
   "cell_type": "markdown",
   "id": "bcb88b03-b0f3-4f02-93dc-a2c1c1c92997",
   "metadata": {},
   "source": [
    "# Introduction to Set\n",
    "A set is an unordered collection of unique elements.\n",
    "\n",
    "#Key Points:\n",
    "\n",
    "Defined with {} or set().\n",
    "\n",
    "No duplicates allowed.\n",
    "\n",
    "No indexing or slicing.\n",
    "\n",
    "Indexing:\n",
    "Not supported. You cannot access set items by index."
   ]
  },
  {
   "cell_type": "markdown",
   "id": "213cca4e-6788-4619-b309-11f641ef105a",
   "metadata": {},
   "source": [
    "### Commom method/Functions"
   ]
  },
  {
   "cell_type": "code",
   "execution_count": 15,
   "id": "9285a09b-6656-48c6-9470-73fa29d8a53f",
   "metadata": {},
   "outputs": [
    {
     "name": "stdout",
     "output_type": "stream",
     "text": [
      "{2, 3, 5, 7, 9, 10}\n",
      "{2, 3, 5, 9, 10}\n"
     ]
    }
   ],
   "source": [
    "# creating a set\n",
    "s={9,2,10,3,5}\n",
    "s.add(7) #Adding an element\n",
    "print(s)\n",
    "s.remove(7) #Remove an element\n",
    "print(s)"
   ]
  },
  {
   "cell_type": "code",
   "execution_count": 30,
   "id": "b9db1d38-6631-4d41-9ddd-c7cc88f9081b",
   "metadata": {},
   "outputs": [
    {
     "name": "stdout",
     "output_type": "stream",
     "text": [
      "{2, 3, 5, 6, 7, 9, 10}\n",
      "{3}\n",
      "{5, 6, 7}\n"
     ]
    }
   ],
   "source": [
    "# set operations\n",
    "A={2,3,9,10}\n",
    "B={3,5,6,7}\n",
    "print(A.union(B)) #union of sets\n",
    "print(A.intersection(B)) #intersection of sets\n",
    "print(B.difference(A)) #Diff of sets"
   ]
  },
  {
   "cell_type": "code",
   "execution_count": 32,
   "id": "500eca6e-0d13-4595-95cd-6f7283f3c3f2",
   "metadata": {},
   "outputs": [
    {
     "name": "stdout",
     "output_type": "stream",
     "text": [
      "True\n",
      "True\n"
     ]
    }
   ],
   "source": [
    "# check if A is subset of B\n",
    "A={3,1,2,8}\n",
    "B={1,2,3,4,5,6,7,8,9,10}\n",
    "print(A.issubset(B))\n",
    "#Check if B is superset of B\n",
    "print(B.issuperset(A))"
   ]
  },
  {
   "cell_type": "code",
   "execution_count": 38,
   "id": "444c680b-e650-4f9c-8a9c-639e91ce2bb7",
   "metadata": {},
   "outputs": [
    {
     "name": "stdout",
     "output_type": "stream",
     "text": [
      "set()\n"
     ]
    }
   ],
   "source": [
    "# Remove all elements from set\n",
    "s={9,2,10,3}\n",
    "s.clear()\n",
    "print(s)"
   ]
  }
 ],
 "metadata": {
  "kernelspec": {
   "display_name": "Python [conda env:base] *",
   "language": "python",
   "name": "conda-base-py"
  },
  "language_info": {
   "codemirror_mode": {
    "name": "ipython",
    "version": 3
   },
   "file_extension": ".py",
   "mimetype": "text/x-python",
   "name": "python",
   "nbconvert_exporter": "python",
   "pygments_lexer": "ipython3",
   "version": "3.12.7"
  }
 },
 "nbformat": 4,
 "nbformat_minor": 5
}
