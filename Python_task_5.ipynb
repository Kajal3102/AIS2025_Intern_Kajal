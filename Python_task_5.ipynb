{
 "cells": [
  {
   "cell_type": "markdown",
   "id": "a2068f1b-be08-49d6-bc7d-69545500b1d2",
   "metadata": {},
   "source": [
    "### Library Installation\n",
    "pip install numpy"
   ]
  },
  {
   "cell_type": "code",
   "execution_count": 1,
   "id": "3e0cb000-76db-41ea-ad66-6f753b64ef53",
   "metadata": {},
   "outputs": [],
   "source": [
    "import numpy as np"
   ]
  },
  {
   "cell_type": "markdown",
   "id": "f857373a-358b-4a35-9a4d-60d382c96932",
   "metadata": {},
   "source": [
    "### 1. Array Creation (Manual)"
   ]
  },
  {
   "cell_type": "code",
   "execution_count": 5,
   "id": "0729eb8a-f95b-4a87-8c72-4f7ef0d188fc",
   "metadata": {},
   "outputs": [
    {
     "name": "stdout",
     "output_type": "stream",
     "text": [
      "1D Array: [1 2 3]\n"
     ]
    }
   ],
   "source": [
    "#1. Create a 1D Array (Manual)\n",
    "arr1 = np.array([1, 2, 3])\n",
    "print(\"1D Array:\", arr1)"
   ]
  },
  {
   "cell_type": "code",
   "execution_count": 7,
   "id": "dd4f4015-e85f-46f6-a866-a8184df3b586",
   "metadata": {},
   "outputs": [
    {
     "name": "stdout",
     "output_type": "stream",
     "text": [
      "2D Array:\n",
      " [[1 2 3]\n",
      " [4 5 6]]\n"
     ]
    }
   ],
   "source": [
    "#2. Create a 2D Array (Manual using nested lists)\n",
    "arr2 = np.array([[1, 2, 3], [4, 5, 6]])\n",
    "print(\"2D Array:\\n\", arr2)"
   ]
  },
  {
   "cell_type": "code",
   "execution_count": 15,
   "id": "378f6fbe-cd54-4aca-b56b-a3e7eafa7c84",
   "metadata": {},
   "outputs": [
    {
     "name": "stdout",
     "output_type": "stream",
     "text": [
      "3D Array:\n",
      " [[[1 2]\n",
      "  [3 4]]\n",
      "\n",
      " [[5 6]\n",
      "  [7 8]]]\n"
     ]
    }
   ],
   "source": [
    "#3.Create a 3D Array\n",
    "arr3 = np.array([[[1,2],[3,4]],[[5,6],[7,8]]])\n",
    "print(\"3D Array:\\n\",arr3)\n",
    "  [7 8]]]"
   ]
  },
  {
   "cell_type": "code",
   "execution_count": 22,
   "id": "e526949e-8a4b-4c43-8bf1-92c45cc9615d",
   "metadata": {},
   "outputs": [
    {
     "name": "stdout",
     "output_type": "stream",
     "text": [
      "1\n",
      "2\n",
      "3\n"
     ]
    }
   ],
   "source": [
    "print(arr1.ndim)\n",
    "print(arr2.ndim)\n",
    "print(arr3.ndim)"
   ]
  },
  {
   "cell_type": "markdown",
   "id": "d0d52d11-299f-4c1e-b8bd-ee623332ccf9",
   "metadata": {},
   "source": [
    "### 2. Array Creation (Built-in Methods)"
   ]
  },
  {
   "cell_type": "code",
   "execution_count": 72,
   "id": "41e74dc5-8b16-4181-871c-c23e75b30731",
   "metadata": {},
   "outputs": [
    {
     "name": "stdout",
     "output_type": "stream",
     "text": [
      "Zeros:\n",
      " [[0. 0. 0.]\n",
      " [0. 0. 0.]]\n",
      "2\n"
     ]
    }
   ],
   "source": [
    "#1. np.zeros(shape)\n",
    "#Creates an array filled with 0s.\n",
    "zeros_array = np.zeros((2,3))\n",
    "print(\"Zeros:\\n\", zeros_array)\n",
    "print(zeros_array.ndim)"
   ]
  },
  {
   "cell_type": "code",
   "execution_count": 74,
   "id": "accf306f-1b52-4050-a8b5-c91cc0d76bb5",
   "metadata": {},
   "outputs": [
    {
     "name": "stdout",
     "output_type": "stream",
     "text": [
      "Zeros:\n",
      " [[[0.]\n",
      "  [0.]\n",
      "  [0.]]\n",
      "\n",
      " [[0.]\n",
      "  [0.]\n",
      "  [0.]]]\n",
      "3\n"
     ]
    }
   ],
   "source": [
    "zeros_array = np.zeros((2,3,1))\n",
    "print(\"Zeros:\\n\", zeros_array)\n",
    "print(zeros_array.ndim)"
   ]
  },
  {
   "cell_type": "code",
   "execution_count": 76,
   "id": "21183888-607e-49b8-ab16-ae077d869bcd",
   "metadata": {},
   "outputs": [
    {
     "name": "stdout",
     "output_type": "stream",
     "text": [
      "Zeros:\n",
      " [[[0.]\n",
      "  [0.]\n",
      "  [0.]]\n",
      "\n",
      " [[0.]\n",
      "  [0.]\n",
      "  [0.]]\n",
      "\n",
      " [[0.]\n",
      "  [0.]\n",
      "  [0.]]]\n",
      "3\n"
     ]
    }
   ],
   "source": [
    "zeros_array = np.zeros((3,3,1))\n",
    "print(\"Zeros:\\n\", zeros_array)\n",
    "print(zeros_array.ndim)"
   ]
  },
  {
   "cell_type": "code",
   "execution_count": 66,
   "id": "8c55aca4-620e-4664-b84a-ceb59c372b8a",
   "metadata": {},
   "outputs": [
    {
     "name": "stdout",
     "output_type": "stream",
     "text": [
      "Ones:\n",
      " [[1. 1. 1.]\n",
      " [1. 1. 1.]]\n",
      "2\n"
     ]
    }
   ],
   "source": [
    "#2. np.ones(shape)\n",
    "#Creates an array filled with 1s.\n",
    "ones_array = np.ones((2,3))\n",
    "print(\"Ones:\\n\", ones_array)\n",
    "print(ones_array.ndim)"
   ]
  },
  {
   "cell_type": "code",
   "execution_count": null,
   "id": "c9ff07fb-b004-493f-a1b5-93e3ee274c54",
   "metadata": {},
   "outputs": [],
   "source": []
  },
  {
   "cell_type": "code",
   "execution_count": 68,
   "id": "e048f01b-c992-416c-8645-dccfdfa0c8e8",
   "metadata": {},
   "outputs": [
    {
     "name": "stdout",
     "output_type": "stream",
     "text": [
      "Ones:\n",
      " [[[1. 1.]\n",
      "  [1. 1.]\n",
      "  [1. 1.]]\n",
      "\n",
      " [[1. 1.]\n",
      "  [1. 1.]\n",
      "  [1. 1.]]]\n",
      "3\n"
     ]
    }
   ],
   "source": [
    "ones_array = np.ones((2,3,2))\n",
    "print(\"Ones:\\n\", ones_array)\n",
    "print(ones_array.ndim)"
   ]
  },
  {
   "cell_type": "code",
   "execution_count": 78,
   "id": "745b6dba-3bfb-461d-b5ae-357535d5ce91",
   "metadata": {},
   "outputs": [
    {
     "name": "stdout",
     "output_type": "stream",
     "text": [
      "Arange:\n",
      " [1 3 5 7 9]\n"
     ]
    }
   ],
   "source": [
    "#3. np.arange(start, stop, step)\n",
    "#Creates an array with a sequence of numbers.\n",
    "range_array = np.arange(1, 10, 2)\n",
    "print(\"Arange:\\n\", range_array)"
   ]
  },
  {
   "cell_type": "code",
   "execution_count": 82,
   "id": "6694d326-c3de-461f-b02d-0a2fcbfd5e2b",
   "metadata": {},
   "outputs": [
    {
     "name": "stdout",
     "output_type": "stream",
     "text": [
      "Arange:\n",
      " [ 9 12 15 18 21 24 27 30 33 36 39 42 45 48]\n"
     ]
    }
   ],
   "source": [
    "#np.arange(start, stop, step)\n",
    "range_array = np.arange(9,50,3)\n",
    "print(\"Arange:\\n\", range_array)"
   ]
  },
  {
   "cell_type": "code",
   "execution_count": 84,
   "id": "c40ff878-6c12-4c42-81e0-848e185e93f2",
   "metadata": {},
   "outputs": [
    {
     "name": "stdout",
     "output_type": "stream",
     "text": [
      "Linspace:\n",
      " [0.   0.25 0.5  0.75 1.  ]\n"
     ]
    }
   ],
   "source": [
    "#np.linspace(start, stop, num)\n",
    "#Returns num evenly spaced values between start and stop.\n",
    "lin_array = np.linspace(0, 1, 5)\n",
    "print(\"Linspace:\\n\", lin_array)"
   ]
  },
  {
   "cell_type": "code",
   "execution_count": 86,
   "id": "ae86eedc-673e-4345-b8db-d52ef7df2429",
   "metadata": {},
   "outputs": [
    {
     "name": "stdout",
     "output_type": "stream",
     "text": [
      "Linspace:\n",
      " [3.  3.5 4. ]\n"
     ]
    }
   ],
   "source": [
    "lin_array = np.linspace(3,4,3)\n",
    "print(\"Linspace:\\n\", lin_array)"
   ]
  },
  {
   "cell_type": "code",
   "execution_count": 88,
   "id": "16bd42b4-d34e-4b82-968e-cce0f7748f38",
   "metadata": {},
   "outputs": [
    {
     "name": "stdout",
     "output_type": "stream",
     "text": [
      "Identity Matrix:\n",
      " [[1. 0. 0.]\n",
      " [0. 1. 0.]\n",
      " [0. 0. 1.]]\n"
     ]
    }
   ],
   "source": [
    "#5. np.eye(n)\n",
    "#Creates an identity matrix of size n x n.\n",
    "eye_matrix = np.eye(3)\n",
    "print(\"Identity Matrix:\\n\", eye_matrix)"
   ]
  },
  {
   "cell_type": "code",
   "execution_count": 94,
   "id": "10ed5049-c0f1-42e2-aa3b-a736d891b5a8",
   "metadata": {},
   "outputs": [
    {
     "name": "stdout",
     "output_type": "stream",
     "text": [
      "Identity Matrix:\n",
      " [[1. 0. 0. 0.]\n",
      " [0. 1. 0. 0.]\n",
      " [0. 0. 1. 0.]\n",
      " [0. 0. 0. 1.]]\n"
     ]
    }
   ],
   "source": [
    "eye_matrix = np.eye(4)\n",
    "print(\"Identity Matrix:\\n\", eye_matrix)"
   ]
  },
  {
   "cell_type": "code",
   "execution_count": 102,
   "id": "e50c7ea5-5f8e-4bba-b844-6c86e3ade5b4",
   "metadata": {},
   "outputs": [
    {
     "name": "stdout",
     "output_type": "stream",
     "text": [
      "Random values:\n",
      " [[0.87720752 0.74297621 0.29170622 0.6728982  0.67494836]\n",
      " [0.43294179 0.50926809 0.51185963 0.41297792 0.02083415]\n",
      " [0.34911656 0.95092485 0.58170524 0.038967   0.77636378]]\n"
     ]
    }
   ],
   "source": [
    "# 6.np.random.rand(shape)\n",
    "# Generates an array of random values between 0 and 1\n",
    "random_array=np.random.rand(3,5)\n",
    "print(\"Random values:\\n\",random_array)"
   ]
  },
  {
   "cell_type": "markdown",
   "id": "551e8efb-486e-4749-a0df-bc8b606f66ea",
   "metadata": {},
   "source": [
    "### 3. Array Operations & Functions"
   ]
  },
  {
   "cell_type": "code",
   "execution_count": 113,
   "id": "a9b995a0-d137-4242-8740-c1e5f01affe8",
   "metadata": {},
   "outputs": [
    {
     "name": "stdout",
     "output_type": "stream",
     "text": [
      "Addition: [5 7 9]\n",
      "Subtraction: [-3 -3 -3]\n",
      "Multiplication: [ 4 10 18]\n",
      "Division: [4.  2.5 2. ]\n"
     ]
    }
   ],
   "source": [
    "#Arithmetic: +, -, *, / (element-wise)\n",
    "a = np.array([1, 2, 3])\n",
    "b = np.array([4, 5, 6])\n",
    "print(\"Addition:\", a + b)       \n",
    "print(\"Subtraction:\", a - b)    \n",
    "print(\"Multiplication:\", a * b) \n",
    "print(\"Division:\", b / a)       "
   ]
  },
  {
   "cell_type": "code",
   "execution_count": 115,
   "id": "9f0190d3-d8a6-47c5-a8e9-5a87da034f67",
   "metadata": {},
   "outputs": [
    {
     "name": "stdout",
     "output_type": "stream",
     "text": [
      "Sum: 10\n",
      "Mean: 2.5\n",
      "Max: 4\n",
      "Min: 1\n"
     ]
    }
   ],
   "source": [
    "#Aggregates: sum(), mean(), max(), min()\n",
    "arr = np.array([1, 2, 3, 4])\n",
    "print(\"Sum:\", np.sum(arr))      \n",
    "print(\"Mean:\", np.mean(arr))     \n",
    "print(\"Max:\", np.max(arr))      \n",
    "print(\"Min:\", np.min(arr))    "
   ]
  },
  {
   "cell_type": "code",
   "execution_count": 123,
   "id": "13858ed7-ffbf-47ee-95e2-d8e03fe79b04",
   "metadata": {},
   "outputs": [
    {
     "name": "stdout",
     "output_type": "stream",
     "text": [
      "Sum: 18\n",
      "Mean: 3.0\n",
      "Max: 5\n",
      "Min: 1\n"
     ]
    }
   ],
   "source": [
    "arr = np.array([[1, 2, 3],[3,4,5]])\n",
    "print(\"Sum:\", np.sum(arr))      \n",
    "print(\"Mean:\", np.mean(arr))     \n",
    "print(\"Max:\", np.max(arr))      \n",
    "print(\"Min:\", np.min(arr)) "
   ]
  },
  {
   "cell_type": "code",
   "execution_count": 117,
   "id": "125cf536-0ac8-4ff0-8059-6b4a9b7a7c8b",
   "metadata": {},
   "outputs": [
    {
     "name": "stdout",
     "output_type": "stream",
     "text": [
      "Square root: [1. 2. 3.]\n",
      "Exponent: [2.71828183e+00 5.45981500e+01 8.10308393e+03]\n",
      "Logarithm: [0.         1.38629436 2.19722458]\n"
     ]
    }
   ],
   "source": [
    "#Mathematical: np.sqrt(), np.exp(), np.log()\n",
    "arr = np.array([1, 4, 9])\n",
    "print(\"Square root:\", np.sqrt(arr)) \n",
    "print(\"Exponent:\", np.exp(arr))      \n",
    "print(\"Logarithm:\", np.log(arr))     "
   ]
  },
  {
   "cell_type": "code",
   "execution_count": 127,
   "id": "5c6f20e9-7a01-454e-aed9-c1eb9f50c071",
   "metadata": {},
   "outputs": [
    {
     "name": "stdout",
     "output_type": "stream",
     "text": [
      "Square root: [[1. 2. 3.]\n",
      " [5. 7. 9.]]\n",
      "Exponent: [[2.71828183e+00 5.45981500e+01 8.10308393e+03]\n",
      " [7.20048993e+10 1.90734657e+21 1.50609731e+35]]\n",
      "Logarithm: [[0.         1.38629436 2.19722458]\n",
      " [3.21887582 3.8918203  4.39444915]]\n"
     ]
    }
   ],
   "source": [
    "arr = np.array([[1, 4, 9],[25,49,81]])\n",
    "print(\"Square root:\", np.sqrt(arr)) \n",
    "print(\"Exponent:\", np.exp(arr))      \n",
    "print(\"Logarithm:\", np.log(arr))"
   ]
  },
  {
   "cell_type": "code",
   "execution_count": 119,
   "id": "e2f106e8-9c13-411d-afb9-be1b9a514d75",
   "metadata": {},
   "outputs": [
    {
     "name": "stdout",
     "output_type": "stream",
     "text": [
      "Reshaped (2x3):\n",
      " [[1 2 3]\n",
      " [4 5 6]]\n",
      "Flattened:\n",
      " [1 2 3 4 5 6]\n",
      "Raveled:\n",
      " [1 2 3 4 5 6]\n"
     ]
    }
   ],
   "source": [
    "#Reshape: reshape(), flatten(), ravel()\n",
    "arr = np.array([1, 2, 3, 4, 5, 6])\n",
    "reshaped = arr.reshape(2, 3)\n",
    "print(\"Reshaped (2x3):\\n\", reshaped)\n",
    "flattened = reshaped.flatten()\n",
    "print(\"Flattened:\\n\", flattened)\n",
    "raveled = reshaped.ravel()\n",
    "print(\"Raveled:\\n\", raveled)"
   ]
  },
  {
   "cell_type": "markdown",
   "id": "5f7ed701-179c-43a9-809b-062b08a1492c",
   "metadata": {},
   "source": [
    "### 4. Matrix Operations"
   ]
  },
  {
   "cell_type": "code",
   "execution_count": 137,
   "id": "647c215c-308b-4a16-b88c-5b9dddf1e91f",
   "metadata": {},
   "outputs": [
    {
     "name": "stdout",
     "output_type": "stream",
     "text": [
      "Dot product:\n",
      " [[19 22]\n",
      " [43 50]]\n"
     ]
    }
   ],
   "source": [
    "#1.Dot product: np.dot(a, b)\n",
    "# The dot product multiplies rows of the first matrix with columns of the second.\n",
    "a=np.array([[1,2],[3,4]])\n",
    "b=np.array([[5,6],[7,8]])\n",
    "dot_product=np.dot(a,b)\n",
    "print(\"Dot product:\\n\",dot_product)\n"
   ]
  },
  {
   "cell_type": "code",
   "execution_count": 139,
   "id": "3056dbc1-c234-4568-b2cd-5d8120b7bf53",
   "metadata": {},
   "outputs": [
    {
     "name": "stdout",
     "output_type": "stream",
     "text": [
      "Original Matrix:\n",
      " [[1 2 3]\n",
      " [4 5 6]]\n",
      "Transposed Matrix:\n",
      " [[1 4]\n",
      " [2 5]\n",
      " [3 6]]\n"
     ]
    }
   ],
   "source": [
    "# 2.Transpose of a Matrix(a.T)\n",
    "# Transpose flips a matrix over its diagonal (rows become columns and vice versa)\n",
    "matrix=np.array([[1,2,3],[4,5,6]])\n",
    "print(\"Original Matrix:\\n\",matrix)\n",
    "print(\"Transposed Matrix:\\n\",matrix.T)\n"
   ]
  },
  {
   "cell_type": "markdown",
   "id": "2b193b06-87c8-4382-a4a8-68376befeaba",
   "metadata": {},
   "source": [
    "### 5. Indexing"
   ]
  },
  {
   "cell_type": "code",
   "execution_count": 143,
   "id": "83c0f91f-74fa-4b2b-840d-5aff0e36ab5a",
   "metadata": {},
   "outputs": [
    {
     "name": "stdout",
     "output_type": "stream",
     "text": [
      "20\n",
      "20\n"
     ]
    }
   ],
   "source": [
    "#1.Accessing Elements\n",
    "#You can access elements using [row][col] or [row, col]:\n",
    "a = np.array([[10, 20, 30],[40, 50, 60]])\n",
    "print(a[0][1])     \n",
    "print(a[0, 1])"
   ]
  },
  {
   "cell_type": "code",
   "execution_count": 145,
   "id": "4ce9c8b1-6c81-4ba2-ae2c-4683147b63c0",
   "metadata": {},
   "outputs": [
    {
     "name": "stdout",
     "output_type": "stream",
     "text": [
      "[[False False False]\n",
      " [ True  True  True]]\n",
      "[40 50 60]\n"
     ]
    }
   ],
   "source": [
    "# 2.Boolean Indexing\n",
    "#Use conditions to filter elements:\n",
    "print(a > 30)       \n",
    "print(a[a > 30])    "
   ]
  },
  {
   "cell_type": "code",
   "execution_count": 147,
   "id": "72997638-0ad4-4311-b713-35392e76fb08",
   "metadata": {},
   "outputs": [
    {
     "name": "stdout",
     "output_type": "stream",
     "text": [
      "[40 50 60]\n",
      "[20 50]\n"
     ]
    }
   ],
   "source": [
    "# More indexing by own\n",
    "#3. Slicing Arrays\n",
    "#You can slice arrays like lists:\n",
    "print(a[1, :])   \n",
    "print(a[:, 1])   "
   ]
  },
  {
   "cell_type": "code",
   "execution_count": 149,
   "id": "2547c402-2a79-4833-a589-0e3685214e0e",
   "metadata": {},
   "outputs": [
    {
     "name": "stdout",
     "output_type": "stream",
     "text": [
      "[100 300 500]\n"
     ]
    }
   ],
   "source": [
    "#4. Fancy Indexing (Indexing with a list/array of indices)\n",
    "b = np.array([100, 200, 300, 400, 500])\n",
    "print(b[[0, 2, 4]]) "
   ]
  },
  {
   "cell_type": "code",
   "execution_count": 151,
   "id": "626de833-efce-4852-9be3-6393689bad29",
   "metadata": {},
   "outputs": [
    {
     "name": "stdout",
     "output_type": "stream",
     "text": [
      "[[99 20 30]\n",
      " [40 50 60]]\n"
     ]
    }
   ],
   "source": [
    "#5. Modifying Values via Indexing\n",
    "a[0, 0] = 99\n",
    "print(a)"
   ]
  },
  {
   "cell_type": "markdown",
   "id": "c62f5533-135f-4814-af22-b45260903612",
   "metadata": {},
   "source": [
    "### 6.Slicing"
   ]
  },
  {
   "cell_type": "code",
   "execution_count": 154,
   "id": "60583db4-e071-4010-b0d6-ae330b82656b",
   "metadata": {},
   "outputs": [
    {
     "name": "stdout",
     "output_type": "stream",
     "text": [
      "[20 30 40]\n",
      "[10 20 30]\n",
      "[10 30 50]\n",
      "[30 40 50]\n"
     ]
    }
   ],
   "source": [
    "#1D Slicing\n",
    "a = np.array([10, 20, 30, 40, 50])\n",
    "print(a[1:4])     \n",
    "print(a[:3])      \n",
    "print(a[::2])     \n",
    "print(a[-3:])     "
   ]
  },
  {
   "cell_type": "code",
   "execution_count": 156,
   "id": "98293778-0c3b-4b4e-8b81-a1e595a1857a",
   "metadata": {},
   "outputs": [
    {
     "name": "stdout",
     "output_type": "stream",
     "text": [
      "[[2 3]\n",
      " [5 6]]\n",
      "[2 5 8]\n",
      "[4 5 6]\n",
      "[[1 3]\n",
      " [7 9]]\n"
     ]
    }
   ],
   "source": [
    "#2D Slicing – Syntax: a[row_start:row_stop, col_start:col_stop]\n",
    "b = np.array([[1, 2, 3],[4, 5, 6],[7, 8, 9]])\n",
    "print(b[0:2, 1:3])  \n",
    "print(b[:, 1])      \n",
    "print(b[1, :])     \n",
    "print(b[::2, ::2])  "
   ]
  },
  {
   "cell_type": "code",
   "execution_count": null,
   "id": "77607759-3330-4786-8198-b63de9a20852",
   "metadata": {},
   "outputs": [],
   "source": []
  }
 ],
 "metadata": {
  "kernelspec": {
   "display_name": "Python [conda env:base] *",
   "language": "python",
   "name": "conda-base-py"
  },
  "language_info": {
   "codemirror_mode": {
    "name": "ipython",
    "version": 3
   },
   "file_extension": ".py",
   "mimetype": "text/x-python",
   "name": "python",
   "nbconvert_exporter": "python",
   "pygments_lexer": "ipython3",
   "version": "3.12.7"
  }
 },
 "nbformat": 4,
 "nbformat_minor": 5
}
