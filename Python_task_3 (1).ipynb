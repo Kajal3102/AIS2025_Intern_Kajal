{
 "cells": [
  {
   "cell_type": "markdown",
   "id": "9ba6d8f9-0d34-446a-a3a8-7e7adfb8d342",
   "metadata": {},
   "source": [
    "# Section 1\n",
    "### if,if-else,if-elif-else."
   ]
  },
  {
   "cell_type": "code",
   "execution_count": 1,
   "id": "176f75d0-3c98-4c48-ad24-9330eac3d746",
   "metadata": {},
   "outputs": [
    {
     "name": "stdin",
     "output_type": "stream",
     "text": [
      "Enter a number: 5\n"
     ]
    },
    {
     "name": "stdout",
     "output_type": "stream",
     "text": [
      "The number is positive.\n"
     ]
    }
   ],
   "source": [
    "# check if a number is positive using if statement\n",
    "num = int(input(\"Enter a number:\"))\n",
    "if num > 0:\n",
    "    print(\"The number is positive.\")"
   ]
  },
  {
   "cell_type": "code",
   "execution_count": 3,
   "id": "928802f1-10b1-4a49-87ca-999d7a4a62dc",
   "metadata": {},
   "outputs": [
    {
     "name": "stdin",
     "output_type": "stream",
     "text": [
      "Enter your age:  23\n"
     ]
    },
    {
     "name": "stdout",
     "output_type": "stream",
     "text": [
      "You are eligible to vote.\n"
     ]
    }
   ],
   "source": [
    "# Check whether a person is eligible to vote using if-else\n",
    "age = int(input(\"Enter your age: \"))\n",
    "if age >= 18:\n",
    "    print(\"You are eligible to vote.\")\n",
    "else:\n",
    "    print(\"You are not eligible to vote.\")"
   ]
  },
  {
   "cell_type": "code",
   "execution_count": 5,
   "id": "0bae34e7-3612-499d-8bf3-7af66f0e0638",
   "metadata": {},
   "outputs": [
    {
     "name": "stdin",
     "output_type": "stream",
     "text": [
      "Enter a number:  -9\n"
     ]
    },
    {
     "name": "stdout",
     "output_type": "stream",
     "text": [
      "Negative number\n"
     ]
    }
   ],
   "source": [
    "# Check whether a number is positive,negative or zero using if-elif-else\n",
    "num = int(input(\"Enter a number: \"))\n",
    "if num > 0:\n",
    "    print(\"Positive number\")\n",
    "elif num < 0:\n",
    "    print(\"Negative number\")\n",
    "else:\n",
    "    print(\"Zero\")"
   ]
  },
  {
   "cell_type": "code",
   "execution_count": 13,
   "id": "744d6e16-4bce-4135-ba8e-b745fba31d64",
   "metadata": {},
   "outputs": [
    {
     "name": "stdin",
     "output_type": "stream",
     "text": [
      "Enter marks: 60\n"
     ]
    },
    {
     "name": "stdout",
     "output_type": "stream",
     "text": [
      "Pass\n"
     ]
    }
   ],
   "source": [
    "# take input marks and print \"Pass\" if marks>=35 otherwise \"Fail\"\n",
    "marks=int(input(\"Enter marks:\"))\n",
    "if marks >= 35:\n",
    "    print(\"Pass\")\n",
    "else:\n",
    "    print(\"Fail\")"
   ]
  },
  {
   "cell_type": "code",
   "execution_count": 18,
   "id": "41267f72-ee52-419e-968a-4336daea614f",
   "metadata": {},
   "outputs": [
    {
     "name": "stdin",
     "output_type": "stream",
     "text": [
      "Enter a number:  92103\n"
     ]
    },
    {
     "name": "stdout",
     "output_type": "stream",
     "text": [
      "Divisible by 3\n"
     ]
    }
   ],
   "source": [
    "#Check divisibility by 3 or 5\n",
    "num = int(input(\"Enter a number: \"))\n",
    "if num % 3 == 0:\n",
    "    print(\"Divisible by 3\")\n",
    "elif num % 5 == 0:\n",
    "    print(\"Divisible by 5\")\n",
    "else:\n",
    "    print(\"Not divisible by 3 or 5\")"
   ]
  },
  {
   "cell_type": "code",
   "execution_count": 28,
   "id": "04527dff-0803-46a3-8fb9-b248a4493adf",
   "metadata": {},
   "outputs": [
    {
     "name": "stdin",
     "output_type": "stream",
     "text": [
      "Enter a number:  15\n"
     ]
    },
    {
     "name": "stdout",
     "output_type": "stream",
     "text": [
      "Number is divisible by 3 and 5\n"
     ]
    }
   ],
   "source": [
    "#or by another way\n",
    "num = int(input(\"Enter a number: \"))\n",
    "if num % 3 == 0 and num % 5 == 0:\n",
    "    print(\"Number is divisible by 3 and 5\")\n",
    "elif num % 3 == 0:\n",
    "    print(\" Number is Divisible by 3\")\n",
    "elif num % 5 == 0:\n",
    "    print(\"Number is divisible by 5\")\n",
    "else:\n",
    "    print(\"Number is not divisible by 3 and 5\")"
   ]
  },
  {
   "cell_type": "markdown",
   "id": "0c4bdc30-5705-4adb-8f85-e901045b4c50",
   "metadata": {},
   "source": [
    "#### Practice questions for if,if-else,if-elif-else"
   ]
  },
  {
   "cell_type": "code",
   "execution_count": 20,
   "id": "820fdfbf-95a6-420d-9ce6-5e36da89b925",
   "metadata": {},
   "outputs": [
    {
     "name": "stdin",
     "output_type": "stream",
     "text": [
      "enter number: 9\n"
     ]
    },
    {
     "name": "stdout",
     "output_type": "stream",
     "text": [
      "ODD\n"
     ]
    }
   ],
   "source": [
    "# Check given number is even or odd\n",
    "num=int(input(\"enter number:\"))\n",
    "if (num%2==0):\n",
    "    print(\"EVEN\")\n",
    "else:\n",
    "    print(\"ODD\") "
   ]
  },
  {
   "cell_type": "code",
   "execution_count": 22,
   "id": "cc582bc6-8d15-4e5d-8c05-3d3f617ac81c",
   "metadata": {},
   "outputs": [
    {
     "name": "stdin",
     "output_type": "stream",
     "text": [
      "enter the number: 7\n",
      "enter the number: 5\n",
      "enter the number: 10\n"
     ]
    },
    {
     "name": "stdout",
     "output_type": "stream",
     "text": [
      "third is largest 10\n"
     ]
    }
   ],
   "source": [
    "# To find the greatest of three numbers\n",
    "a=int(input(\"enter the number:\"))\n",
    "b=int(input(\"enter the number:\"))\n",
    "c=int(input(\"enter the number:\"))\n",
    "if(a>=b and a>=c):\n",
    "    print(\"first number is largest\",a)\n",
    "elif(b>=c):\n",
    "    print(\"second number is largest\",b)\n",
    "else:\n",
    "    print(\"third is largest\",c)"
   ]
  },
  {
   "cell_type": "code",
   "execution_count": 37,
   "id": "4b86eda6-1aaf-4928-accc-95bb5914b551",
   "metadata": {},
   "outputs": [
    {
     "name": "stdin",
     "output_type": "stream",
     "text": [
      "Enter thr number 19\n"
     ]
    },
    {
     "name": "stdout",
     "output_type": "stream",
     "text": [
      "the number is prime\n"
     ]
    }
   ],
   "source": [
    "# to check number is prime\n",
    "num=int(input(\"Enter thr number\"))\n",
    "if num % 2 == 0 and num != 2:\n",
    "    print(\"the number is  not prime\")\n",
    "else:\n",
    "    print(\"the number is prime\")\n"
   ]
  },
  {
   "cell_type": "code",
   "execution_count": 45,
   "id": "96f1b2d4-5060-4435-86ea-6f5ecd4257eb",
   "metadata": {},
   "outputs": [
    {
     "name": "stdin",
     "output_type": "stream",
     "text": [
      "Enter the age: 15\n"
     ]
    },
    {
     "name": "stdout",
     "output_type": "stream",
     "text": [
      "cannot drive\n"
     ]
    }
   ],
   "source": [
    "# person can drive\n",
    "age=int(input(\"Enter the age:\"))\n",
    "if age >= 18: \n",
    "   print(\"can drive\")\n",
    "else:\n",
    "   print(\"cannot drive\")"
   ]
  },
  {
   "cell_type": "code",
   "execution_count": 53,
   "id": "f5156061-f488-4f10-b39e-dd9967f0ab55",
   "metadata": {},
   "outputs": [
    {
     "name": "stdin",
     "output_type": "stream",
     "text": [
      "Enter a number(1-7): 10\n"
     ]
    },
    {
     "name": "stdout",
     "output_type": "stream",
     "text": [
      "Invalid day\n"
     ]
    }
   ],
   "source": [
    "# Day of the week\n",
    "day=int(input(\"Enter a number(1-7):\"))\n",
    "if day ==1:\n",
    "    print(\"Monday\")\n",
    "elif day == 2:\n",
    "    print(\"Tuesday\")\n",
    "elif day == 3:\n",
    "    print(\"Wednesday\")\n",
    "elif day == 4:\n",
    "    print(\"Thursday\")\n",
    "elif day == 5:\n",
    "    print(\"Friday\")\n",
    "elif day == 6:\n",
    "    print(\"Saturday\")\n",
    "elif day == 7:\n",
    "    print(\"Sunday\")\n",
    "else:\n",
    "    print(\"Invalid day\")"
   ]
  },
  {
   "cell_type": "markdown",
   "id": "ce611f5a-c5e1-43c2-813c-812df85d61c8",
   "metadata": {},
   "source": [
    "# Section 2\n",
    "### for loop"
   ]
  },
  {
   "cell_type": "code",
   "execution_count": 82,
   "id": "f40bba6e-45c9-4537-86a8-0110ea900c54",
   "metadata": {},
   "outputs": [
    {
     "name": "stdout",
     "output_type": "stream",
     "text": [
      "1\n",
      "2\n",
      "3\n",
      "4\n",
      "5\n",
      "6\n",
      "7\n",
      "8\n",
      "9\n",
      "10\n"
     ]
    }
   ],
   "source": [
    "# print numbers from 1 to 10 by using for loop\n",
    "for i in range(1,11):\n",
    "  print(i)"
   ]
  },
  {
   "cell_type": "code",
   "execution_count": 88,
   "id": "6906be2a-58d3-4989-bc0f-e0946753e43c",
   "metadata": {},
   "outputs": [
    {
     "name": "stdout",
     "output_type": "stream",
     "text": [
      "2\n",
      "4\n",
      "6\n",
      "8\n",
      "10\n",
      "12\n",
      "14\n",
      "16\n",
      "18\n",
      "20\n",
      "22\n",
      "24\n",
      "26\n",
      "28\n",
      "30\n",
      "32\n",
      "34\n",
      "36\n",
      "38\n",
      "40\n",
      "42\n",
      "44\n",
      "46\n",
      "48\n",
      "50\n"
     ]
    }
   ],
   "source": [
    "# print all even numbers from 1 to 50\n",
    "for i in range(1,51):\n",
    " if i % 2 == 0:\n",
    "    print(i)"
   ]
  },
  {
   "cell_type": "code",
   "execution_count": 90,
   "id": "0f5e384e-3b85-4c24-814c-4b28f8d3f60f",
   "metadata": {},
   "outputs": [
    {
     "name": "stdin",
     "output_type": "stream",
     "text": [
      "enter any number 5\n"
     ]
    },
    {
     "name": "stdout",
     "output_type": "stream",
     "text": [
      "5 X 1 = 5\n",
      "5 X 2 = 10\n",
      "5 X 3 = 15\n",
      "5 X 4 = 20\n",
      "5 X 5 = 25\n",
      "5 X 6 = 30\n",
      "5 X 7 = 35\n",
      "5 X 8 = 40\n",
      "5 X 9 = 45\n",
      "5 X 10 = 50\n"
     ]
    }
   ],
   "source": [
    "# print the multiplication table of a given number\n",
    "num=int(input(\"enter any number\"))\n",
    "for i in range(1,11):\n",
    "    print(num,\"X\",i,\"=\",num*i)"
   ]
  },
  {
   "cell_type": "code",
   "execution_count": 94,
   "id": "2ac35a60-8888-4bde-85b4-20efae5f76bc",
   "metadata": {},
   "outputs": [
    {
     "name": "stdin",
     "output_type": "stream",
     "text": [
      "Enter the number: 5\n"
     ]
    },
    {
     "name": "stdout",
     "output_type": "stream",
     "text": [
      "fact 120\n"
     ]
    }
   ],
   "source": [
    "# find the factorial of a number using a for loop\n",
    "num=int(input(\"Enter the number:\"))\n",
    "fact=1\n",
    "for i in range(1,num+1):\n",
    "    fact=fact*i\n",
    "print(\"fact\",fact)"
   ]
  },
  {
   "cell_type": "code",
   "execution_count": 96,
   "id": "dec9ca1c-1ec8-42d5-b451-b4ebfa365f88",
   "metadata": {},
   "outputs": [
    {
     "name": "stdin",
     "output_type": "stream",
     "text": [
      "Enter a string:  Kajal\n"
     ]
    },
    {
     "name": "stdout",
     "output_type": "stream",
     "text": [
      "Number of vowels: 2\n"
     ]
    }
   ],
   "source": [
    "# count how many vowels are in a given string\n",
    "text = input(\"Enter a string: \")\n",
    "vowels = \"aeiouAEIOU\"\n",
    "count = 0\n",
    "for char in text:\n",
    "    if char in vowels:\n",
    "        count += 1\n",
    "print(\"Number of vowels:\", count)"
   ]
  },
  {
   "cell_type": "markdown",
   "id": "1ad07adc-c40b-44ea-9a6b-a6ad91fa253e",
   "metadata": {},
   "source": [
    "#### Practice questions of for loop"
   ]
  },
  {
   "cell_type": "code",
   "execution_count": 98,
   "id": "44ef8f78-8957-4c74-8ea4-9f29ccf40cdf",
   "metadata": {},
   "outputs": [
    {
     "name": "stdin",
     "output_type": "stream",
     "text": [
      "Enter a number:  7\n"
     ]
    },
    {
     "name": "stdout",
     "output_type": "stream",
     "text": [
      "Sum from 1 to 7 is 28\n"
     ]
    }
   ],
   "source": [
    "# sum of numbers from 1 to n\n",
    "n = int(input(\"Enter a number: \"))\n",
    "total = 0\n",
    "\n",
    "for i in range(1, n + 1):\n",
    "    total += i\n",
    "\n",
    "print(\"Sum from 1 to\", n, \"is\", total)"
   ]
  },
  {
   "cell_type": "code",
   "execution_count": 100,
   "id": "c8ffbbf8-5a1c-4e7f-ad82-9142c25b2b21",
   "metadata": {},
   "outputs": [
    {
     "name": "stdin",
     "output_type": "stream",
     "text": [
      "Enter a string:  Kajal Raut\n"
     ]
    },
    {
     "name": "stdout",
     "output_type": "stream",
     "text": [
      "K\n",
      "a\n",
      "j\n",
      "a\n",
      "l\n",
      " \n",
      "R\n",
      "a\n",
      "u\n",
      "t\n"
     ]
    }
   ],
   "source": [
    "# print each character in string\n",
    "text = input(\"Enter a string: \")\n",
    "\n",
    "for char in text:\n",
    "    print(char)"
   ]
  },
  {
   "cell_type": "code",
   "execution_count": 104,
   "id": "70831ed5-8300-4593-aef6-56b97fa1fa52",
   "metadata": {},
   "outputs": [
    {
     "name": "stdin",
     "output_type": "stream",
     "text": [
      "Enter a number:  92103\n"
     ]
    },
    {
     "name": "stdout",
     "output_type": "stream",
     "text": [
      "Number of digits: 5\n"
     ]
    }
   ],
   "source": [
    "# count number of digits in an integer\n",
    "num = int(input(\"Enter a number: \"))\n",
    "count = 0\n",
    "\n",
    "for digit in str(num):\n",
    "    count += 1\n",
    "\n",
    "print(\"Number of digits:\", count)"
   ]
  },
  {
   "cell_type": "code",
   "execution_count": 110,
   "id": "42a74a28-7aa1-4b4e-b4e7-82c09ef9475a",
   "metadata": {},
   "outputs": [
    {
     "name": "stdout",
     "output_type": "stream",
     "text": [
      "Sum of even numbers from 1 to 50 is: 650\n"
     ]
    }
   ],
   "source": [
    "# sum of even numbers from 1 to 50\n",
    "sum_even = 0\n",
    "for i in range(1, 51):\n",
    "    if i % 2 == 0:\n",
    "        sum_even += i\n",
    "print(\"Sum of even numbers from 1 to 50 is:\", sum_even)"
   ]
  },
  {
   "cell_type": "code",
   "execution_count": null,
   "id": "1595ea91-138b-465f-a309-e2e44ef19c0a",
   "metadata": {},
   "outputs": [],
   "source": []
  },
  {
   "cell_type": "code",
   "execution_count": 122,
   "id": "b2217839-0d42-4295-bb5b-d42c082c0b43",
   "metadata": {},
   "outputs": [
    {
     "name": "stdin",
     "output_type": "stream",
     "text": [
      "Enter a string:  my name is kajal\n",
      "Enter a letter to count:  a\n"
     ]
    },
    {
     "name": "stdout",
     "output_type": "stream",
     "text": [
      "'a' appears 3 times.\n"
     ]
    }
   ],
   "source": [
    "# count how many times a specific letter appears\n",
    "text = input(\"Enter a string: \")\n",
    "letter = input(\"Enter a letter to count: \")\n",
    "count = 0\n",
    "for ch in text:\n",
    "    if ch == letter:\n",
    "        count += 1\n",
    "print(f\"'{letter}' appears {count} times.\")"
   ]
  },
  {
   "cell_type": "markdown",
   "id": "362a50cc-db4c-4ae7-bb5a-1540afd69793",
   "metadata": {},
   "source": [
    "# Section 3\n",
    "### while loop"
   ]
  },
  {
   "cell_type": "code",
   "execution_count": 125,
   "id": "06c7753e-d10c-4cae-b448-482ae85d0ae5",
   "metadata": {},
   "outputs": [
    {
     "name": "stdout",
     "output_type": "stream",
     "text": [
      "1\n",
      "2\n",
      "3\n",
      "4\n",
      "5\n",
      "6\n",
      "7\n",
      "8\n",
      "9\n",
      "10\n"
     ]
    }
   ],
   "source": [
    "# print numbers from 1 to 10 using while loop\n",
    "i = 1\n",
    "while i <= 10:\n",
    "    print(i)\n",
    "    i += 1"
   ]
  },
  {
   "cell_type": "code",
   "execution_count": 3,
   "id": "fe5564ce-58e0-48d3-b1d6-463a4e0a7283",
   "metadata": {},
   "outputs": [
    {
     "name": "stdin",
     "output_type": "stream",
     "text": [
      "Enter the number(0 to stop): 9\n",
      "Enter the number(0 to stop): 9\n",
      "Enter the number(0 to stop): 9\n",
      "Enter the number(0 to stop): 9\n",
      "Enter the number(0 to stop): 0\n"
     ]
    },
    {
     "name": "stdout",
     "output_type": "stream",
     "text": [
      "total sum: 36\n"
     ]
    }
   ],
   "source": [
    "total=0\n",
    "num=int(input(\"Enter the number(0 to stop):\"))\n",
    "while num !=0:\n",
    "    total += num\n",
    "    num=int(input(\"Enter the number(0 to stop):\"))\n",
    "print(\"total sum:\",total)"
   ]
  },
  {
   "cell_type": "code",
   "execution_count": 129,
   "id": "06fa9a51-649e-4fff-ab40-9b5f941db38b",
   "metadata": {},
   "outputs": [
    {
     "name": "stdin",
     "output_type": "stream",
     "text": [
      "Enter a number:  35\n"
     ]
    },
    {
     "name": "stdout",
     "output_type": "stream",
     "text": [
      "Reversed number: 53\n"
     ]
    }
   ],
   "source": [
    "#Reverse a given number using while loop\n",
    "num = int(input(\"Enter a number: \"))\n",
    "rev = 0\n",
    "\n",
    "while num > 0:\n",
    "    digit = num % 10\n",
    "    rev = rev * 10 + digit\n",
    "    num //= 10\n",
    "\n",
    "print(\"Reversed number:\", rev)"
   ]
  },
  {
   "cell_type": "code",
   "execution_count": 131,
   "id": "507dac0f-131b-49d1-aa09-c0d4afa3c482",
   "metadata": {},
   "outputs": [
    {
     "name": "stdin",
     "output_type": "stream",
     "text": [
      "Enter a number:  92103\n"
     ]
    },
    {
     "name": "stdout",
     "output_type": "stream",
     "text": [
      "Number of digits: 5\n"
     ]
    }
   ],
   "source": [
    "#Count digits of a number using while\n",
    "num = int(input(\"Enter a number: \"))\n",
    "count = 0\n",
    "\n",
    "while num != 0:\n",
    "    num //= 10\n",
    "    count += 1\n",
    "\n",
    "print(\"Number of digits:\", count)\n"
   ]
  },
  {
   "cell_type": "code",
   "execution_count": 135,
   "id": "c25245e8-4bf0-4d01-901c-a748b27e4b3c",
   "metadata": {},
   "outputs": [
    {
     "name": "stdin",
     "output_type": "stream",
     "text": [
      "Enter number of terms:  9\n"
     ]
    },
    {
     "name": "stdout",
     "output_type": "stream",
     "text": [
      "0\n",
      "1\n",
      "1\n",
      "2\n",
      "3\n",
      "5\n",
      "8\n",
      "13\n",
      "21\n"
     ]
    }
   ],
   "source": [
    "#Print Fibonacci series up to n terms using while\n",
    "n = int(input(\"Enter number of terms: \"))\n",
    "a, b = 0, 1\n",
    "count = 0\n",
    "\n",
    "while count < n:\n",
    "    print(a)\n",
    "    a, b = b, a + b\n",
    "    count += 1"
   ]
  },
  {
   "cell_type": "markdown",
   "id": "56c10d23-2348-4fa1-befe-2b34fcd5d448",
   "metadata": {},
   "source": [
    "#### Practice Questions of while loop"
   ]
  },
  {
   "cell_type": "code",
   "execution_count": 5,
   "id": "5da2d1d7-4b50-4ca2-8257-5e78ed41a579",
   "metadata": {},
   "outputs": [
    {
     "name": "stdout",
     "output_type": "stream",
     "text": [
      "2 4 6 8 10 12 14 16 18 20 22 24 26 28 30 32 34 36 38 40 42 44 46 48 50 "
     ]
    }
   ],
   "source": [
    "# Print all even numbers between 1 and 50\n",
    "i = 1\n",
    "while i <= 50:\n",
    "    if i % 2 == 0:\n",
    "        print(i, end=' ')\n",
    "    i += 1"
   ]
  },
  {
   "cell_type": "code",
   "execution_count": 11,
   "id": "28f10515-b377-4519-889b-7471779e6381",
   "metadata": {},
   "outputs": [
    {
     "name": "stdin",
     "output_type": "stream",
     "text": [
      "Enter a number:  10\n"
     ]
    },
    {
     "name": "stdout",
     "output_type": "stream",
     "text": [
      "1^2 = 1\n",
      "2^2 = 4\n",
      "3^2 = 9\n",
      "4^2 = 16\n",
      "5^2 = 25\n",
      "6^2 = 36\n",
      "7^2 = 49\n",
      "8^2 = 64\n",
      "9^2 = 81\n",
      "10^2 = 100\n"
     ]
    }
   ],
   "source": [
    "# print quares of numbers from 1 to 10\n",
    "n = int(input(\"Enter a number: \"))\n",
    "i = 1\n",
    "while i <= n:\n",
    "    print(f\"{i}^2 = {i*i}\")\n",
    "    i += 1"
   ]
  },
  {
   "cell_type": "code",
   "execution_count": 13,
   "id": "853ee469-d90e-45af-8282-26685d2b6a3b",
   "metadata": {},
   "outputs": [
    {
     "name": "stdin",
     "output_type": "stream",
     "text": [
      "Enter a number:  92103\n"
     ]
    },
    {
     "name": "stdout",
     "output_type": "stream",
     "text": [
      "Sum of digits: 15\n"
     ]
    }
   ],
   "source": [
    "# sum of digits of a number using while loop\n",
    "num = int(input(\"Enter a number: \"))\n",
    "sum_digits = 0\n",
    "while num != 0:\n",
    "    sum_digits += num % 10\n",
    "    num //= 10\n",
    "print(\"Sum of digits:\", sum_digits)"
   ]
  },
  {
   "cell_type": "code",
   "execution_count": 15,
   "id": "54a59d64-db77-4f2f-a668-e6c4ffedd1e3",
   "metadata": {},
   "outputs": [
    {
     "name": "stdin",
     "output_type": "stream",
     "text": [
      "Enter a number greater than 1:  92103\n"
     ]
    },
    {
     "name": "stdout",
     "output_type": "stream",
     "text": [
      "Smallest divisor is: 3\n"
     ]
    }
   ],
   "source": [
    "# find the smallest divisor of number greater than 1\n",
    "num = int(input(\"Enter a number greater than 1: \"))\n",
    "i = 2\n",
    "while i <= num:\n",
    "    if num % i == 0:\n",
    "        print(\"Smallest divisor is:\", i)\n",
    "        break\n",
    "    i += 1"
   ]
  },
  {
   "cell_type": "code",
   "execution_count": 17,
   "id": "62f68108-8eae-43e7-865e-0d362a1fb571",
   "metadata": {},
   "outputs": [
    {
     "name": "stdin",
     "output_type": "stream",
     "text": [
      "Enter a number:  921039567967\n",
      "Enter the digit to count:  9\n"
     ]
    },
    {
     "name": "stdout",
     "output_type": "stream",
     "text": [
      "Digit 9 appears 3 times\n"
     ]
    }
   ],
   "source": [
    "# count how many times a digit appears in the number\n",
    "num = int(input(\"Enter a number: \"))\n",
    "digit = int(input(\"Enter the digit to count: \"))\n",
    "count = 0\n",
    "while num != 0:\n",
    "    if num % 10 == digit:\n",
    "        count += 1\n",
    "    num //= 10\n",
    "print(f\"Digit {digit} appears {count} times\")"
   ]
  },
  {
   "cell_type": "markdown",
   "id": "58f7c269-4417-4cfe-b812-4c0a103780bd",
   "metadata": {},
   "source": [
    "# Section 4\n",
    "### Control Statements (break, continue, pass)"
   ]
  },
  {
   "cell_type": "code",
   "execution_count": 23,
   "id": "a9c4721a-7c05-4e5f-a550-38acaa791c3d",
   "metadata": {},
   "outputs": [
    {
     "name": "stdout",
     "output_type": "stream",
     "text": [
      "1\n",
      "2\n",
      "3\n",
      "4\n"
     ]
    }
   ],
   "source": [
    "#Print numbers 1 to 10, but stop if number is 5 (using break)\n",
    "i = 1\n",
    "while i <= 10:\n",
    "    if i == 5:\n",
    "        break\n",
    "    print(i)\n",
    "    i += 1\n"
   ]
  },
  {
   "cell_type": "code",
   "execution_count": 25,
   "id": "f7b5981f-f6b0-4df4-a6f6-1697950478d7",
   "metadata": {},
   "outputs": [
    {
     "name": "stdout",
     "output_type": "stream",
     "text": [
      "1\n",
      "2\n",
      "3\n",
      "4\n",
      "6\n",
      "7\n",
      "8\n",
      "9\n",
      "10\n"
     ]
    }
   ],
   "source": [
    "#Print numbers 1 to 10, but skip 5 (using continue)\n",
    "i = 1\n",
    "while i <= 10:\n",
    "    if i == 5:\n",
    "        i += 1\n",
    "        continue\n",
    "    print(i)\n",
    "    i += 1"
   ]
  },
  {
   "cell_type": "code",
   "execution_count": 27,
   "id": "f4867f75-9d19-4af6-9645-22d3009d2ebf",
   "metadata": {},
   "outputs": [
    {
     "name": "stdout",
     "output_type": "stream",
     "text": [
      "1\n",
      "2\n",
      "3\n",
      "4\n",
      "5\n"
     ]
    }
   ],
   "source": [
    "#Use pass statement inside a loop and explain its purpose\n",
    "i = 1\n",
    "while i <= 5:\n",
    "    if i == 3:\n",
    "        pass  # Placeholder for future code or \"do nothing\"\n",
    "    print(i)\n",
    "    i += 1"
   ]
  },
  {
   "cell_type": "code",
   "execution_count": 29,
   "id": "bc4fc5c8-b471-492e-a478-5cc1d5c10976",
   "metadata": {},
   "outputs": [
    {
     "name": "stdin",
     "output_type": "stream",
     "text": [
      "Enter number to search:  9\n"
     ]
    },
    {
     "name": "stdout",
     "output_type": "stream",
     "text": [
      "Number 9 found at index 3\n"
     ]
    }
   ],
   "source": [
    "#Search a number in a list. If found, print and break loop\n",
    "nums = [4, 7, 12, 9, 5, 3]\n",
    "target = int(input(\"Enter number to search: \"))\n",
    "i = 0\n",
    "while i < len(nums):\n",
    "    if nums[i] == target:\n",
    "        print(f\"Number {target} found at index {i}\")\n",
    "        break\n",
    "    i += 1\n",
    "else:\n",
    "    print(\"Number not found\")"
   ]
  },
  {
   "cell_type": "code",
   "execution_count": 31,
   "id": "1ec543ff-6e96-410c-9c77-66f73e8f937e",
   "metadata": {},
   "outputs": [
    {
     "name": "stdout",
     "output_type": "stream",
     "text": [
      "1\n",
      "3\n",
      "5\n",
      "7\n",
      "9\n",
      "11\n",
      "13\n",
      "15\n",
      "17\n",
      "19\n"
     ]
    }
   ],
   "source": [
    "#Use continue to print only odd numbers from 1 to 20\n",
    "i = 1\n",
    "while i <= 20:\n",
    "    if i % 2 == 0:\n",
    "        i += 1\n",
    "        continue\n",
    "    print(i)\n",
    "    i += 1"
   ]
  },
  {
   "cell_type": "markdown",
   "id": "e7bf93e6-874f-4e8a-aac9-09c0bfed451e",
   "metadata": {},
   "source": [
    "#### Practice questionns of Control Statements (break, continue, pass)"
   ]
  },
  {
   "cell_type": "code",
   "execution_count": 38,
   "id": "e5bfded8-b961-49c4-8a33-a233bcdf3324",
   "metadata": {},
   "outputs": [
    {
     "name": "stdin",
     "output_type": "stream",
     "text": [
      "Enter a number (negative to stop):  9\n"
     ]
    },
    {
     "name": "stdout",
     "output_type": "stream",
     "text": [
      "You entered: 9\n"
     ]
    },
    {
     "name": "stdin",
     "output_type": "stream",
     "text": [
      "Enter a number (negative to stop):  10\n"
     ]
    },
    {
     "name": "stdout",
     "output_type": "stream",
     "text": [
      "You entered: 10\n"
     ]
    },
    {
     "name": "stdin",
     "output_type": "stream",
     "text": [
      "Enter a number (negative to stop):  -2\n"
     ]
    },
    {
     "name": "stdout",
     "output_type": "stream",
     "text": [
      "Negative number entered. Stopping loop.\n"
     ]
    }
   ],
   "source": [
    "#Break the loop when a negative number is entered\n",
    "while True:\n",
    "    num = int(input(\"Enter a number (negative to stop): \"))\n",
    "    if num < 0:\n",
    "        print(\"Negative number entered. Stopping loop.\")\n",
    "        break\n",
    "    print(\"You entered:\", num)"
   ]
  },
  {
   "cell_type": "code",
   "execution_count": 40,
   "id": "bb3979ee-ef98-4de6-b185-d8f386788819",
   "metadata": {},
   "outputs": [
    {
     "name": "stdout",
     "output_type": "stream",
     "text": [
      "1\n",
      "2\n",
      "4\n",
      "5\n",
      "7\n",
      "8\n",
      "10\n",
      "11\n",
      "13\n",
      "14\n",
      "16\n",
      "17\n",
      "19\n",
      "20\n"
     ]
    }
   ],
   "source": [
    "#Skip all multiples of 3 from 1 to 20\n",
    "i = 1\n",
    "while i <= 20:\n",
    "    if i % 3 == 0:\n",
    "        i += 1\n",
    "        continue\n",
    "    print(i)\n",
    "    i += 1"
   ]
  },
  {
   "cell_type": "code",
   "execution_count": 42,
   "id": "c4808580-f6f3-434d-bf0d-b1c3e2f92aec",
   "metadata": {},
   "outputs": [
    {
     "name": "stdout",
     "output_type": "stream",
     "text": [
      "Odd number: 1\n",
      "Odd number: 3\n",
      "Odd number: 5\n",
      "Odd number: 7\n",
      "Odd number: 9\n"
     ]
    }
   ],
   "source": [
    "#Use pass to do nothing when a number is even (but keep looping)\n",
    "i = 1\n",
    "while i <= 10:\n",
    "    if i % 2 == 0:\n",
    "        pass  # Placeholder, does nothing for even numbers\n",
    "    else:\n",
    "        print(f\"Odd number: {i}\")\n",
    "    i += 1"
   ]
  },
  {
   "cell_type": "code",
   "execution_count": 44,
   "id": "67aa6ac2-7014-4084-9918-f4ae547397f0",
   "metadata": {},
   "outputs": [
    {
     "name": "stdout",
     "output_type": "stream",
     "text": [
      "First number divisible by 7 is 49\n"
     ]
    }
   ],
   "source": [
    "# Find the first number divisible by 7 in a list, then stop\n",
    "numbers = [11, 22, 34, 49, 63, 70]\n",
    "i = 0\n",
    "while i < len(numbers):\n",
    "    if numbers[i] % 7 == 0:\n",
    "        print(f\"First number divisible by 7 is {numbers[i]}\")\n",
    "        break\n",
    "    i += 1"
   ]
  },
  {
   "cell_type": "code",
   "execution_count": 46,
   "id": "f06952f6-f352-4c0a-abf9-b80ec613d054",
   "metadata": {},
   "outputs": [
    {
     "name": "stdout",
     "output_type": "stream",
     "text": [
      "1\n",
      "2\n",
      "3\n",
      "5\n",
      "6\n",
      "8\n",
      "9\n",
      "10\n"
     ]
    }
   ],
   "source": [
    "#Print numbers 1 to 10 but skip printing 4 and 7\n",
    "i = 1\n",
    "while i <= 10:\n",
    "    if i == 4 or i == 7:\n",
    "        i += 1\n",
    "        continue\n",
    "    print(i)\n",
    "    i += 1"
   ]
  },
  {
   "cell_type": "code",
   "execution_count": null,
   "id": "c549a07b-1260-4c2f-be3a-06b8ab9bc466",
   "metadata": {},
   "outputs": [],
   "source": []
  }
 ],
 "metadata": {
  "kernelspec": {
   "display_name": "Python [conda env:base] *",
   "language": "python",
   "name": "conda-base-py"
  },
  "language_info": {
   "codemirror_mode": {
    "name": "ipython",
    "version": 3
   },
   "file_extension": ".py",
   "mimetype": "text/x-python",
   "name": "python",
   "nbconvert_exporter": "python",
   "pygments_lexer": "ipython3",
   "version": "3.12.7"
  }
 },
 "nbformat": 4,
 "nbformat_minor": 5
}
